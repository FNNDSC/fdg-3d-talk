{
 "cells": [
  {
   "cell_type": "markdown",
   "metadata": {},
   "source": [
    "# Create a slew of \"pc\" fdgs"
   ]
  },
  {
   "cell_type": "code",
   "execution_count": 114,
   "metadata": {},
   "outputs": [],
   "source": [
    "import json"
   ]
  },
  {
   "cell_type": "code",
   "execution_count": 115,
   "metadata": {},
   "outputs": [],
   "source": [
    "l_nodesCloudHeterogeneous = []\n",
    "l_linksCloudHeterogeneous = []\n",
    "l_nodesCloudHomogeneous   = []\n",
    "l_linksCloudHomogeneous   = []\n",
    "cloudNodes                = 300\n",
    "edgeNodes                 = 30\n",
    "linkToEdgeNodes           = 10\n",
    "d_graphDisconnected       = {}\n",
    "d_graphCentralServer      = {}\n",
    "d_graphCloudHomogeneous   = {}\n",
    "d_graphEdge               = {}\n",
    "d_graphFog                = {}"
   ]
  },
  {
   "cell_type": "code",
   "execution_count": 116,
   "metadata": {},
   "outputs": [],
   "source": [
    "for i in range(1, cloudNodes):\n",
    "    l_nodesCloudHeterogeneous.append({\"id\": \"pc%d\" % i, \"group\": i})\n",
    "    l_nodesCloudHeterogeneous.append({\"id\": \"human%d\" % i, \"group\": i})\n",
    "    l_linksCloudHeterogeneous.append({\"source\": \"pc%d\" % i, \"target\": \"human%d\" % i, \"value\": 10})"
   ]
  },
  {
   "cell_type": "code",
   "execution_count": 117,
   "metadata": {},
   "outputs": [],
   "source": [
    "d_graphDisconnected = {\n",
    "    \"nodes\": l_nodesCloudHeterogeneous,\n",
    "    \"links\": l_linksCloudHeterogeneous\n",
    "}\n",
    "with open('pcss.json', 'w') as f:\n",
    "    json.dump(d_graphDisconnected, f, sort_keys=True, indent=4)"
   ]
  },
  {
   "cell_type": "markdown",
   "metadata": {},
   "source": [
    "# Create a central server"
   ]
  },
  {
   "cell_type": "code",
   "execution_count": 118,
   "metadata": {},
   "outputs": [],
   "source": [
    "l_nodesCloudHeterogeneous.append({\"id\": \"server1\", \"group\": 200})"
   ]
  },
  {
   "cell_type": "code",
   "execution_count": 119,
   "metadata": {},
   "outputs": [],
   "source": [
    "for i in range(1, cloudNodes):\n",
    "    l_linksCloudHeterogeneous.append({\"source\": \"pc%d\" % i, \"target\": \"server1\", \"value\": 1})"
   ]
  },
  {
   "cell_type": "code",
   "execution_count": 120,
   "metadata": {},
   "outputs": [],
   "source": [
    "d_graphCentralServer = {\n",
    "    \"nodes\": l_nodesCloudHeterogeneous,\n",
    "    \"links\": l_linksCloudHeterogeneous\n",
    "}\n",
    "with open('pcss-net.json', 'w') as f:\n",
    "    json.dump(d_graphCentralServer, f, sort_keys=True, indent=4)"
   ]
  },
  {
   "cell_type": "markdown",
   "metadata": {},
   "source": [
    "# Create a \"cloud\" topology"
   ]
  },
  {
   "cell_type": "markdown",
   "metadata": {},
   "source": [
    "# First create the node and links out from the cloud to the edge"
   ]
  },
  {
   "cell_type": "code",
   "execution_count": 121,
   "metadata": {},
   "outputs": [],
   "source": [
    "# Create a homogeneous cloud\n",
    "l_nodesCloudHomogeneous.append({\"id\": \"headnode\", \"group\": 100})\n",
    "for i in range(1, cloudNodes):\n",
    "    l_nodesCloudHomogeneous.append({\"id\": \"node%d\" %i, \"group\": 1})\n",
    "    l_linksCloudHomogeneous.append({\"source\": \"node%d\" % i, \"target\": \"headnode\", \"value\": 1})"
   ]
  },
  {
   "cell_type": "code",
   "execution_count": 122,
   "metadata": {},
   "outputs": [],
   "source": [
    "# Create the nodes out of the cloud\n",
    "for i in range(1, linkToEdgeNodes):\n",
    "    l_nodesCloudHomogeneous.append({\"id\": \"link%d\" % i, \"group\": cloudNodes})\n",
    "l_nodesCloudHomogeneous.append({\"id\": \"client\", \"group\": 400})"
   ]
  },
  {
   "cell_type": "code",
   "execution_count": 123,
   "metadata": {},
   "outputs": [],
   "source": [
    "# Link the nodes to create a chain out of the cloud\n",
    "for i in range(1, linkToEdgeNodes-1):\n",
    "    l_linksCloudHomogeneous.append({\"source\": \"link%d\" % i, \"target\": \"link%s\" % str(i+1)})\n",
    "l_linksCloudHomogeneous.append({\"source\": \"link1\", \"target\": \"headnode\", \"value\": 1})\n",
    "l_linksCloudHomogeneous.append({\"source\": \"link%s\" % str(linkToEdgeNodes-1), \"target\": \"client\", \"value\": 1})"
   ]
  },
  {
   "cell_type": "code",
   "execution_count": 124,
   "metadata": {},
   "outputs": [],
   "source": [
    "d_graphCloudHomogeneous = {\n",
    "    \"nodes\": l_nodesCloudHomogeneous,\n",
    "    \"links\": l_linksCloudHomogeneous\n",
    "}\n",
    "with open('cloud.json', 'w') as f:\n",
    "    json.dump(d_graphCloudHomogeneous, f, sort_keys=True, indent=4)"
   ]
  },
  {
   "cell_type": "markdown",
   "metadata": {},
   "source": [
    "# Create another cloud for the \"edge\" computing"
   ]
  },
  {
   "cell_type": "code",
   "execution_count": 125,
   "metadata": {},
   "outputs": [],
   "source": [
    "for i in range(1, edgeNodes):\n",
    "    l_nodesCloudHomogeneous.append({\"id\": \"edgeNode%d\" % i, \"group\": 2})\n",
    "    l_linksCloudHomogeneous.append({\"source\": \"edgeNode%d\" %i, \"target\": \"link%s\" % str(linkToEdgeNodes-1), \"value\": 1})"
   ]
  },
  {
   "cell_type": "code",
   "execution_count": 126,
   "metadata": {},
   "outputs": [],
   "source": [
    "d_graphEdge = {\n",
    "    \"nodes\": l_nodesCloudHomogeneous,\n",
    "    \"links\": l_linksCloudHomogeneous\n",
    "}\n",
    "with open('edge.json', 'w') as f:\n",
    "    json.dump(d_graphEdge, f, sort_keys=True, indent=4)"
   ]
  },
  {
   "cell_type": "markdown",
   "metadata": {},
   "source": [
    "# Fog computing"
   ]
  },
  {
   "cell_type": "code",
   "execution_count": 130,
   "metadata": {},
   "outputs": [],
   "source": [
    "for i in range(1, edgeNodes):\n",
    "    l_nodesCloudHomogeneous.append({\"id\": \"fogNode3.%d\" %i, \"group\": 3})\n",
    "    l_linksCloudHomogeneous.append({\"source\": \"fogNode3.%d\" %i, \"target\": \"link3\", \"value\": 1})\n",
    "    l_nodesCloudHomogeneous.append({\"id\": \"fogNode6.%d\" %i, \"group\": 4})\n",
    "    l_linksCloudHomogeneous.append({\"source\": \"fogNode6.%d\" %i, \"target\": \"link6\", \"value\": 1})"
   ]
  },
  {
   "cell_type": "code",
   "execution_count": 131,
   "metadata": {},
   "outputs": [],
   "source": [
    "d_graphFog = {\n",
    "    \"nodes\": l_nodesCloudHomogeneous,\n",
    "    \"links\": l_linksCloudHomogeneous\n",
    "}\n",
    "with open('fog.json', 'w') as f:\n",
    "    json.dump(d_graphFog, f, sort_keys=True, indent=4)"
   ]
  },
  {
   "cell_type": "code",
   "execution_count": null,
   "metadata": {},
   "outputs": [],
   "source": []
  }
 ],
 "metadata": {
  "kernelspec": {
   "display_name": "Python 3",
   "language": "python",
   "name": "python3"
  },
  "language_info": {
   "codemirror_mode": {
    "name": "ipython",
    "version": 3
   },
   "file_extension": ".py",
   "mimetype": "text/x-python",
   "name": "python",
   "nbconvert_exporter": "python",
   "pygments_lexer": "ipython3",
   "version": "3.6.3"
  }
 },
 "nbformat": 4,
 "nbformat_minor": 2
}
